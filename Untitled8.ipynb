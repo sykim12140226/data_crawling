{
 "cells": [
  {
   "cell_type": "code",
   "execution_count": 1,
   "metadata": {},
   "outputs": [],
   "source": [
    "import tweepy\n",
    "from tweepy import OAuthHandler, API\n",
    "import pandas as pd"
   ]
  },
  {
   "cell_type": "code",
   "execution_count": 2,
   "metadata": {},
   "outputs": [],
   "source": [
    "consumer_key = 'bE4JPGAAvWxgrhnxIrExMPCzM'\n",
    "consumer_secret = 'CrZghoNCrmPOfAPyUg3zILksOQVdE41gQyiWA0L8NPdag93Xjf'\n",
    "access_token = '1280409421265244160-kB44C5e7f15pVpbEu86I8gUhZP1nou'\n",
    "access_token_secret = 'QwwTk6wgvRtO70n3n9AjVLX6BXTvUONCd5FO6sERqbsX0'"
   ]
  },
  {
   "cell_type": "code",
   "execution_count": 5,
   "metadata": {},
   "outputs": [],
   "source": [
    "auth = OAuthHandler(consumer_key, consumer_secret)\n",
    "auth.set_access_token(access_token, access_token_secret)\n",
    "api = API(auth)"
   ]
  },
  {
   "cell_type": "code",
   "execution_count": 6,
   "metadata": {},
   "outputs": [
    {
     "name": "stdout",
     "output_type": "stream",
     "text": [
      "검색 할 키워드를 입력하세요: 문재인\n"
     ]
    }
   ],
   "source": [
    "keyword = input('검색 할 키워드를 입력하세요: ')\n",
    "max_tweets = 1500 #최대 검색 트윗 수\n",
    "searched_tweets = []\n",
    "last_id = -1"
   ]
  },
  {
   "cell_type": "code",
   "execution_count": 8,
   "metadata": {},
   "outputs": [],
   "source": [
    "while len(searched_tweets) < max_tweets:\n",
    "    count = max_tweets - len(searched_tweets)\n",
    "    try:\n",
    "        new_tweets = api.search(q=keyword, count=count)\n",
    "        if not new_tweets:\n",
    "            break\n",
    "        searched_tweets.extend(new_tweets)\n",
    "        last_id = new_tweets[-1].id\n",
    "        \n",
    "    except tweepy.TweepErrer as e:\n",
    "        break"
   ]
  },
  {
   "cell_type": "code",
   "execution_count": 9,
   "metadata": {},
   "outputs": [],
   "source": [
    "#트윗에서 정보 추출\n",
    "name = []\n",
    "id = []\n",
    "mention = []\n",
    "date = []\n",
    "time = []\n",
    "\n",
    "for tweet in searched_tweets:\n",
    "    created_time = str(tweet.created_at)\n",
    "    time_split = created_time.split()\n",
    "    name.append(tweet.user.name)\n",
    "    id.append(\"@\" + tweet.user.screen_name)\n",
    "    mention.append(tweet.text)\n",
    "    date.append(time_split[0])\n",
    "    time.append(time_split[1])"
   ]
  },
  {
   "cell_type": "code",
   "execution_count": 10,
   "metadata": {},
   "outputs": [],
   "source": [
    "data = {}\n",
    "data['닉네임'] = name\n",
    "data['ID'] = id\n",
    "data['내용'] = mention\n",
    "data['날짜'] = date\n",
    "data['시간'] = time"
   ]
  },
  {
   "cell_type": "code",
   "execution_count": 11,
   "metadata": {},
   "outputs": [],
   "source": [
    "#pandas로 데이터프레임 생성\n",
    "df = pd.DataFrame(data)"
   ]
  },
  {
   "cell_type": "code",
   "execution_count": 13,
   "metadata": {},
   "outputs": [
    {
     "name": "stdout",
     "output_type": "stream",
     "text": [
      "원하는 저장 경로를 입력하세요. (예: C:\\) : \n"
     ]
    }
   ],
   "source": [
    "addr = input('원하는 저장 경로를 입력하세요. (예: C:\\) : ')\n",
    "df.to_excel(addr + keyword + '.xlsx')"
   ]
  },
  {
   "cell_type": "code",
   "execution_count": 24,
   "metadata": {},
   "outputs": [
    {
     "name": "stdout",
     "output_type": "stream",
     "text": [
      "RT @yeshenRunyu: 문재인 대통령님 MBTI를 없애 주세요.\n",
      "RT @sundown2050: 이재명 경기지사, SNS에 '국민의 짐' 표현 다시 사용\n",
      "\n",
      "🗣도민의짐, 민주당의짐, 문재인 대통령의짐 이재명은 탈당하라!\n",
      "한국 문재인 스스로 역사의 거짓말을 인정 버리는 w\n",
      "\n",
      "한국의 중학생이 문장 주한 호랑이에 \"한국 해\"라고 기록 된 고지도를 기증 한 것 같다. 한국의 주장은 한국 바다가 아닌 \"동해\"의 것이며 아이러니하게도… https://t.co/CHzNMo7FE3\n"
     ]
    }
   ],
   "source": [
    "for i in range(3):\n",
    "    print(data['내용'][i])"
   ]
  },
  {
   "cell_type": "code",
   "execution_count": null,
   "metadata": {},
   "outputs": [],
   "source": []
  }
 ],
 "metadata": {
  "kernelspec": {
   "display_name": "Python 3",
   "language": "python",
   "name": "python3"
  },
  "language_info": {
   "codemirror_mode": {
    "name": "ipython",
    "version": 3
   },
   "file_extension": ".py",
   "mimetype": "text/x-python",
   "name": "python",
   "nbconvert_exporter": "python",
   "pygments_lexer": "ipython3",
   "version": "3.8.5"
  }
 },
 "nbformat": 4,
 "nbformat_minor": 4
}
